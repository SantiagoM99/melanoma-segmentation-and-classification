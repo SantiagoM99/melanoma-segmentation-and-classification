{
 "cells": [
  {
   "cell_type": "code",
   "execution_count": 5,
   "metadata": {},
   "outputs": [
    {
     "name": "stdout",
     "output_type": "stream",
     "text": [
      "Prediction: Non-Melanoma (Confidence: 0.8979)\n"
     ]
    }
   ],
   "source": [
    "import torch\n",
    "from torchvision import models, transforms\n",
    "from torch import nn\n",
    "from PIL import Image\n",
    "\n",
    "# Paths\n",
    "model_path = \"melanoma_segmentation/results/saved_models_classification/mobilenet_melanoma.pth\"\n",
    "test_image_path = \"data/ISIC-2017_Validation_Data/ISIC_0001769.jpg\"\n",
    "\n",
    "# Load MobileNetV2 with the correct classifier\n",
    "def load_model(model_path):\n",
    "    # Load base MobileNetV2 architecture\n",
    "    mobilenet = models.mobilenet_v2(weights=models.MobileNet_V2_Weights.IMAGENET1K_V1)\n",
    "    \n",
    "    # Modify the classifier to match training\n",
    "    num_features = mobilenet.last_channel\n",
    "    mobilenet.classifier = nn.Sequential(\n",
    "        nn.Linear(num_features, 1),\n",
    "        nn.Sigmoid()\n",
    "    )\n",
    "    \n",
    "    # Load the trained weights\n",
    "    mobilenet.load_state_dict(torch.load(model_path, map_location=torch.device('cpu')))\n",
    "    mobilenet.eval()  # Set to evaluation mode\n",
    "    return mobilenet\n",
    "\n",
    "# Preprocess the image\n",
    "def preprocess_image(image_path):\n",
    "    transform = transforms.Compose([\n",
    "        transforms.Resize((224, 224)),  # Resize to MobileNetV2 input size\n",
    "        transforms.ToTensor(),  # Convert to tensor\n",
    "        transforms.Normalize(mean=[0.485, 0.456, 0.406], std=[0.229, 0.224, 0.225])  # Normalize\n",
    "    ])\n",
    "    image = Image.open(image_path).convert(\"RGB\")\n",
    "    return transform(image).unsqueeze(0)  # Add batch dimension\n",
    "\n",
    "# Perform inference\n",
    "def classify_image(model, image_tensor):\n",
    "    with torch.no_grad():\n",
    "        output = model(image_tensor)\n",
    "        prediction = output.item()  # Get the prediction as a float\n",
    "        return prediction\n",
    "\n",
    "# Main Function\n",
    "if __name__ == \"__main__\":\n",
    "    # Load the trained model\n",
    "    model = load_model(model_path)\n",
    "\n",
    "    # Preprocess the test image\n",
    "    image_tensor = preprocess_image(test_image_path)\n",
    "\n",
    "    # Classify the image\n",
    "    prediction = classify_image(model, image_tensor)\n",
    "\n",
    "    # Print the result\n",
    "    if prediction > 0.5:\n",
    "        print(f\"Prediction: Melanoma (Confidence: {prediction:.4f})\")\n",
    "    else:\n",
    "        print(f\"Prediction: Non-Melanoma (Confidence: {1 - prediction:.4f})\")\n"
   ]
  }
 ],
 "metadata": {
  "kernelspec": {
   "display_name": "venv",
   "language": "python",
   "name": "python3"
  },
  "language_info": {
   "codemirror_mode": {
    "name": "ipython",
    "version": 3
   },
   "file_extension": ".py",
   "mimetype": "text/x-python",
   "name": "python",
   "nbconvert_exporter": "python",
   "pygments_lexer": "ipython3",
   "version": "3.10.11"
  }
 },
 "nbformat": 4,
 "nbformat_minor": 2
}
